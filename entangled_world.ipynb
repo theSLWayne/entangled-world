{
 "cells": [
  {
   "cell_type": "code",
   "execution_count": 1,
   "metadata": {},
   "outputs": [],
   "source": [
    "# Importing Qiskit\n",
    "\n",
    "import qiskit as q\n",
    "%matplotlib inline"
   ]
  },
  {
   "cell_type": "code",
   "execution_count": 3,
   "metadata": {},
   "outputs": [
    {
     "data": {
      "text/plain": [
       "{'qiskit-terra': '0.16.1',\n",
       " 'qiskit-aer': '0.7.1',\n",
       " 'qiskit-ignis': '0.5.1',\n",
       " 'qiskit-ibmq-provider': '0.11.1',\n",
       " 'qiskit-aqua': '0.8.1',\n",
       " 'qiskit': '0.23.1'}"
      ]
     },
     "execution_count": 3,
     "metadata": {},
     "output_type": "execute_result"
    }
   ],
   "source": [
    "# Check qiskit version\n",
    "q.__qiskit_version__"
   ]
  },
  {
   "cell_type": "code",
   "execution_count": null,
   "metadata": {},
   "outputs": [],
   "source": [
    "# Create a circuit with two quantum bits and two classical bits\n",
    "circuit = q.QuantumCircuit(2, 2)\n",
    "\n",
    "# Apply Hadamard(H) gate for the first qubit\n",
    "circuit.h(0)\n",
    "\n",
    "# Controlled NOT gate (CNOT) applied to 0 and 1 qubits.\n",
    "circuit.cx(0, 1)\n",
    "\n",
    "# Measure qubits in classical bits\n",
    "c"
   ]
  }
 ],
 "metadata": {
  "kernelspec": {
   "display_name": "Python 3",
   "language": "python",
   "name": "python3"
  },
  "language_info": {
   "codemirror_mode": {
    "name": "ipython",
    "version": 3
   },
   "file_extension": ".py",
   "mimetype": "text/x-python",
   "name": "python",
   "nbconvert_exporter": "python",
   "pygments_lexer": "ipython3",
   "version": "3.9.0"
  }
 },
 "nbformat": 4,
 "nbformat_minor": 4
}
